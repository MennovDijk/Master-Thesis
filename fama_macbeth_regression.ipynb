{
 "cells": [
  {
   "cell_type": "code",
   "execution_count": 484,
   "metadata": {},
   "outputs": [],
   "source": [
    "import pandas as pd\n",
    "import math\n",
    "import numpy as np\n",
    "import statsmodels.formula.api as smf\n",
    "from statsmodels.stats.stattools import durbin_watson\n",
    "import datetime\n",
    "import calendar\n",
    "from scipy import stats\n",
    "from matplotlib import pyplot as plt\n",
    "pd.options.mode.chained_assignment = 'raise'\n",
    "\n",
    "exclusion_factor = 10\n",
    "liquidity_variable = \"amihud\""
   ]
  },
  {
   "cell_type": "code",
   "execution_count": 485,
   "metadata": {},
   "outputs": [],
   "source": [
    "def add_month(date): # function that adds one month with the correct year/days.\n",
    "    if date.month % 12 == 0:\n",
    "        cur_month = 1\n",
    "        cur_year = date.year + 1\n",
    "        cur_day = calendar.monthrange(cur_year, cur_month)\n",
    "        return datetime.date(cur_year, cur_month, cur_day[1])\n",
    "    else:\n",
    "        cur_month = date.month + 1\n",
    "        cur_day = calendar.monthrange(date.year, cur_month)\n",
    "        return datetime.date(date.year, cur_month, cur_day[1])\n",
    "\n",
    "def subtract_year(date):\n",
    "    prev_year = date.year - 1\n",
    "    prev_day = calendar.monthrange(prev_year, date.month)\n",
    "    return datetime.date(prev_year, date.month, prev_day[1])"
   ]
  },
  {
   "cell_type": "code",
   "execution_count": 486,
   "metadata": {},
   "outputs": [],
   "source": [
    "df = pd.read_csv(\"market_info_forge_monthly.csv\")\n",
    "df.date = pd.to_datetime(df.date)\n",
    "df.index = df.date # this line and following ensures we have the date as the index AND as a column\n",
    "df.date = df.index"
   ]
  },
  {
   "cell_type": "code",
   "execution_count": 487,
   "metadata": {
    "scrolled": true
   },
   "outputs": [],
   "source": [
    "start_date = datetime.date(2011,2,28)\n",
    "date = start_date\n",
    "\n",
    "d = {}\n",
    "std_cols = {}\n",
    "\n",
    "exclusions = 0\n",
    "# TRYING TO EXCLUDE MONTHS FROM THE ORIGINAL DATASET THAT HAVE COLUMNS WHICH EXHIBIT WEIRD PATTERNS (EXTREME STD)\n",
    "for i in range(0, 10000):\n",
    "    #if not date == datetime.date(2011,2,28):\n",
    "    if not date.year == 2018:\n",
    "        dfd = df.loc[df[\"date\"] == pd.Timestamp(date)]\n",
    "        dfd = dfd[[\"retm\", \"amihud\", \"cpqs\", \"ln_voli\", \"r100\", \"r100yr\", \"stdy\"]]\n",
    "\n",
    "        for c in dfd.columns:\n",
    "            if i == 0:\n",
    "                std_cols[c] = [np.std(dfd[c])]\n",
    "            else:\n",
    "                std_cols[c].append(np.std(dfd[c]))\n",
    "\n",
    "        date = add_month(date)\n",
    "    else:\n",
    "        break"
   ]
  },
  {
   "cell_type": "code",
   "execution_count": 488,
   "metadata": {},
   "outputs": [],
   "source": [
    "for key, val in std_cols.items():\n",
    "    std_cols[key] = np.nanmean(std_cols[key])"
   ]
  },
  {
   "cell_type": "code",
   "execution_count": 489,
   "metadata": {},
   "outputs": [
    {
     "name": "stdout",
     "output_type": "stream",
     "text": [
      "0\n"
     ]
    }
   ],
   "source": [
    "start_date = datetime.date(2011,2,28)\n",
    "date = start_date\n",
    "\n",
    "for i in range(0, 10000):\n",
    "    #if not date == datetime.date(2011,2,28):\n",
    "    if not date.year == 2018:\n",
    "        dfd = df.loc[df[\"date\"] == pd.Timestamp(date)]\n",
    "        dfd = dfd[[\"retm\", \"amihud\", \"cpqs\", \"ln_voli\", \"r100\", \"r100yr\", \"stdy\"]]\n",
    "        \n",
    "        for c in dfd.columns:\n",
    "            if np.std(dfd[c]) > exclusion_factor * std_cols[c]:\n",
    "                exclusions += 1\n",
    "                df.drop(pd.Timestamp(date), inplace=True)\n",
    "                break\n",
    "        \n",
    "        date = add_month(date)\n",
    "    else:\n",
    "        break\n",
    "print(exclusions)"
   ]
  },
  {
   "cell_type": "code",
   "execution_count": 490,
   "metadata": {},
   "outputs": [
    {
     "name": "stdout",
     "output_type": "stream",
     "text": [
      "Inter \t 0.0127 \t 1.76\n",
      "stdy \t 0.0001 \t 2.35\n",
      "r100y \t -0.0116 \t -1.56\n",
      "amihu \t -1147.6697 \t -1.37\n",
      "r100 \t 0.0069 \t 0.62\n",
      "R2 0.2081\n"
     ]
    }
   ],
   "source": [
    "start_date = datetime.date(2012,2,28) # Reset the start date so that it begins at the correct date again\n",
    "date = start_date\n",
    "\n",
    "regressions = 0\n",
    "r2tot = 0\n",
    "dbstat = []\n",
    "\n",
    "# run cross-sectional OLS regression for each month and save results in a dictionary. \n",
    "for i in range(0,10000):\n",
    "    #if not date == datetime.date(2011,2,28):\n",
    "    if not date.year == 2018:   \n",
    "        dft = df.loc[df[\"date\"] == pd.Timestamp(date)] # dependent variable at time t\n",
    "        dft_1 = df.loc[df[\"date\"] == pd.Timestamp(subtract_year(date))] # independent variables at time t-1\n",
    "        dfd = pd.merge(dft[[\"retm\", \"typeID\"]], dft_1[[\"amihud\", \"cpqs\", \"ln_voli\", \"r100\", \"r100yr\", \"stdy\", \"typeID\"]], on = \"typeID\")\n",
    "\n",
    "        # Exclude top and bottom 5% of  most and least liquid items, respectively.\n",
    "        exclude = math.ceil(len(dfd)*0.05)\n",
    "        dfd = dfd.sort_values(by = [liquidity_variable])\n",
    "        dfd = dfd.iloc[exclude:-exclude]\n",
    "        \n",
    "        if not dfd.empty:\n",
    "            model = smf.ols('retm ~ ' + liquidity_variable + ' + r100 + r100yr + stdy', data = dfd, missing = \"drop\").fit()\n",
    "            \n",
    "            for j, name in enumerate(model.params.index):\n",
    "                if i == 1:\n",
    "                    d[name] = [model.params[j]]\n",
    "                else:\n",
    "                    d[name].append(model.params[j])\n",
    "                \n",
    "          # dbstat.append(np.mean(model.resid))\n",
    "            \n",
    "            regressions += 1\n",
    "            r2tot += model.rsquared\n",
    "            \n",
    "            date = add_month(date)\n",
    "\n",
    "        else:\n",
    "            date = add_month(date)\n",
    "    else:\n",
    "\n",
    "        break\n",
    "        \n",
    "\n",
    "# print(\"serial correlation stat: {}\".format(durbin_watson(dbstat)))\n",
    "\n",
    "for k in d.keys():\n",
    "    print(\"{} \\t {} \\t {}\".format(k[0:5], round(np.mean(d[k]), 4), round(stats.ttest_1samp(d[k], 0)[0], 2)))\n",
    "print(\"R2 {}\".format(round(r2tot/regressions, 4)))"
   ]
  },
  {
   "cell_type": "code",
   "execution_count": null,
   "metadata": {},
   "outputs": [],
   "source": []
  },
  {
   "cell_type": "code",
   "execution_count": null,
   "metadata": {},
   "outputs": [],
   "source": []
  },
  {
   "cell_type": "code",
   "execution_count": null,
   "metadata": {},
   "outputs": [],
   "source": []
  },
  {
   "cell_type": "code",
   "execution_count": null,
   "metadata": {},
   "outputs": [],
   "source": []
  },
  {
   "cell_type": "code",
   "execution_count": null,
   "metadata": {},
   "outputs": [],
   "source": []
  },
  {
   "cell_type": "code",
   "execution_count": null,
   "metadata": {},
   "outputs": [],
   "source": []
  }
 ],
 "metadata": {
  "kernelspec": {
   "display_name": "Python 3",
   "language": "python",
   "name": "python3"
  },
  "language_info": {
   "codemirror_mode": {
    "name": "ipython",
    "version": 3
   },
   "file_extension": ".py",
   "mimetype": "text/x-python",
   "name": "python",
   "nbconvert_exporter": "python",
   "pygments_lexer": "ipython3",
   "version": "3.5.0"
  }
 },
 "nbformat": 4,
 "nbformat_minor": 2
}
