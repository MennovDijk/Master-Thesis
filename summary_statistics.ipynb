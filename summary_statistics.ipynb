{
 "cells": [
  {
   "cell_type": "code",
   "execution_count": 50,
   "metadata": {},
   "outputs": [],
   "source": [
    "import pandas as pd\n",
    "import math\n",
    "import numpy as np\n",
    "import statsmodels.formula.api as smf\n",
    "from statsmodels.stats.stattools import durbin_watson\n",
    "import datetime\n",
    "import calendar\n",
    "from scipy import stats\n",
    "from matplotlib import pyplot as plt\n",
    "pd.options.mode.chained_assignment = 'raise'"
   ]
  },
  {
   "cell_type": "code",
   "execution_count": 51,
   "metadata": {},
   "outputs": [],
   "source": [
    "def add_month(date): # function that adds one month with the correct year/days.\n",
    "    if date.month % 12 == 0:\n",
    "        cur_month = 1\n",
    "        cur_year = date.year + 1\n",
    "        cur_day = calendar.monthrange(cur_year, cur_month)\n",
    "        return datetime.date(cur_year, cur_month, cur_day[1])\n",
    "    else:\n",
    "        cur_month = date.month + 1\n",
    "        cur_day = calendar.monthrange(date.year, cur_month)\n",
    "        return datetime.date(date.year, cur_month, cur_day[1])"
   ]
  },
  {
   "cell_type": "code",
   "execution_count": 52,
   "metadata": {},
   "outputs": [],
   "source": [
    "df = pd.read_csv(\"market_info_forge_monthly.csv\")\n",
    "df.date = pd.to_datetime(df.date)\n",
    "df.index = df.date # this line and following ensures we have data as index and as column\n",
    "df.date = df.index"
   ]
  },
  {
   "cell_type": "code",
   "execution_count": 53,
   "metadata": {},
   "outputs": [
    {
     "name": "stdout",
     "output_type": "stream",
     "text": [
      "cpqs 167\n",
      "obs 167\n",
      "r100 167\n",
      "r100yr 167\n",
      "retm 167\n",
      "ln_voli 167\n",
      "stdy 167\n",
      "amihud 167\n",
      "           amihud        cpqs     ln_voli         obs        r100      r100yr  \\\n",
      "count  156.000000  167.000000  167.000000  167.000000  167.000000  167.000000   \n",
      "mean     0.001707    0.044718   16.895198   63.305389    0.588429    1.670404   \n",
      "std      0.002584    0.010526    1.655866   10.598768    0.765960    3.441495   \n",
      "min      0.000003    0.009694   12.347684   23.000000   -0.089364   -0.066774   \n",
      "25%      0.000054    0.037495   15.532596   63.000000    0.132082    0.088640   \n",
      "50%      0.000082    0.045385   17.798376   64.000000    0.282051    0.446862   \n",
      "75%      0.002250    0.051146   18.181935   69.000000    1.092681    0.782431   \n",
      "max      0.009140    0.082496   18.882200   73.000000    3.371314   13.886301   \n",
      "\n",
      "              retm         stdy  \n",
      "count   167.000000   167.000000  \n",
      "mean      7.419675   372.301380  \n",
      "std      86.887439   470.610774  \n",
      "min      -0.123169    45.545042  \n",
      "25%       0.006034    87.144940  \n",
      "50%       0.038790   176.846429  \n",
      "75%       0.100758   553.831678  \n",
      "max    1121.602569  1804.977376  \n"
     ]
    }
   ],
   "source": [
    "start_date = datetime.date(2004, 2, 29)\n",
    "date = start_date\n",
    "dict_to_df = {}\n",
    "\n",
    "for i in range(1, 174+1):\n",
    "    if not date.year == 2018:\n",
    "        dfd = df.loc[df[\"date\"] == pd.Timestamp(date)]\n",
    "\n",
    "        for c in dfd.columns:\n",
    "            if c in [\"date\", \"avgPrice\", \"highPrice\", \"lowPrice\", \"orders\", \"retd\", \"typeID\", \"volume\"]:\n",
    "                continue\n",
    "            if i == 1:\n",
    "                dict_to_df[c] = [dfd[c].mean()]\n",
    "            else:\n",
    "                dict_to_df[c].append(dfd[c].mean())\n",
    "        \n",
    "        if i == 1:\n",
    "            dict_to_df[\"obs\"] = [len(dfd)]\n",
    "        else:\n",
    "            dict_to_df[\"obs\"].append(len(dfd))\n",
    "\n",
    "        \n",
    "        date = add_month(date)\n",
    "\n",
    "    else:\n",
    "        break\n",
    "\n",
    "for key, value in dict_to_df.items():\n",
    "    print(key, len(dict_to_df[key]))\n",
    "    \n",
    "dfsumstat = pd.DataFrame.from_dict(dict_to_df)\n",
    "print(dfsumstat.describe())"
   ]
  },
  {
   "cell_type": "code",
   "execution_count": null,
   "metadata": {},
   "outputs": [],
   "source": [
    "start_date = datetime.date(2004, 2, 29)\n",
    "date = start_date\n",
    "dfsumstat = pd.DataFrame(columns = [\"stdy\", \"r100yr\", \"r100\", \"amihud\", \"ln_voli\", \"cpqs\", \"retm\", \"obs\"])\n",
    "\n",
    "for i in range(1, 174+1):\n",
    "    if not date.year == 2018:\n",
    "        dfd = df.loc[df[\"date\"] == pd.Timestamp(date)]\n",
    "        dfd = dfd.iloc[:,8:]\n",
    "        row = []\n",
    "        for c in dfd.columns:\n",
    "            row.append(dfd[c].mean())\n",
    "            \n",
    "        row.append(len(dfd))\n",
    "        \n",
    "        dfsumstat.loc[i] = row\n",
    "        \n",
    "        date = add_month(date)\n",
    "\n",
    "    else:\n",
    "        break\n",
    "\n",
    "print(dfsumstat.describe())"
   ]
  },
  {
   "cell_type": "code",
   "execution_count": 49,
   "metadata": {},
   "outputs": [
    {
     "name": "stdout",
     "output_type": "stream",
     "text": [
      "167.0\n",
      "2155971.1979043353\n",
      "5040638.992194861\n",
      "279.535060852599\n",
      "2688.1043732740563\n",
      "34200.53053377305\n",
      "1608552.610747155\n",
      "19011425.380071033\n"
     ]
    }
   ],
   "source": [
    "for i in range(len(dfsumstat[\"stdy\"].describe())):\n",
    "    print(dfsumstat[\"stdy\"].describe()[i])"
   ]
  },
  {
   "cell_type": "code",
   "execution_count": null,
   "metadata": {},
   "outputs": [],
   "source": []
  }
 ],
 "metadata": {
  "kernelspec": {
   "display_name": "Python 3",
   "language": "python",
   "name": "python3"
  },
  "language_info": {
   "codemirror_mode": {
    "name": "ipython",
    "version": 3
   },
   "file_extension": ".py",
   "mimetype": "text/x-python",
   "name": "python",
   "nbconvert_exporter": "python",
   "pygments_lexer": "ipython3",
   "version": "3.5.0"
  }
 },
 "nbformat": 4,
 "nbformat_minor": 2
}
