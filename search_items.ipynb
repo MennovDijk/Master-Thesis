{
 "cells": [
  {
   "cell_type": "code",
   "execution_count": 46,
   "metadata": {},
   "outputs": [
    {
     "name": "stdout",
     "output_type": "stream",
     "text": [
      "What ore?Carnotite\n"
     ]
    }
   ],
   "source": [
    "inp = input(\"What ore?\")\n",
    "\n",
    "with open(\"typeid_to_item.txt\", encoding='utf-8') as fl:\n",
    "    while True:\n",
    "        splitline = fl.readline().split()\n",
    "        if not splitline:\n",
    "            continue\n",
    "        if inp in splitline:\n",
    "            if \"Ancient\" in splitline:\n",
    "                continue\n",
    "            elif \"Compressed\" in splitline:\n",
    "                continue\n",
    "            print(splitline[0], splitline[1:])\n",
    "        if splitline[0] == '368620':\n",
    "            break\n"
   ]
  }
 ],
 "metadata": {
  "kernelspec": {
   "display_name": "Python 3",
   "language": "python",
   "name": "python3"
  },
  "language_info": {
   "codemirror_mode": {
    "name": "ipython",
    "version": 3
   },
   "file_extension": ".py",
   "mimetype": "text/x-python",
   "name": "python",
   "nbconvert_exporter": "python",
   "pygments_lexer": "ipython3",
   "version": "3.5.0"
  }
 },
 "nbformat": 4,
 "nbformat_minor": 2
}
